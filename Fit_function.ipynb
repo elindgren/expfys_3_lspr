{
 "cells": [
  {
   "cell_type": "code",
   "execution_count": 121,
   "metadata": {},
   "outputs": [],
   "source": [
    "import numpy as np\n",
    "import matplotlib.pyplot as plt\n",
    "from load_data import load_file\n",
    "import pandas as pd\n",
    "# Standard libraries\n",
    "import os\n",
    "import sys\n",
    "\n",
    "# Third party libraries\n",
    "import matplotlib.pyplot as plt\n",
    "import numpy as np\n",
    "import pandas as pd\n",
    "from sklearn.linear_model import LinearRegression\n",
    "from sklearn.preprocessing import PolynomialFeatures\n",
    "from scipy.optimize import minimize_scalar\n",
    "from scipy.optimize import root\n",
    "\n",
    "\n",
    "def gen_lorentzian(x, x0, max, gamma):\n",
    "    return max/(1+((x-x0)/gamma)**2)\n",
    "\n",
    "def poly(x, intercept, coef):\n",
    "    y = intercept\n",
    "    for i, c in enumerate(coef):\n",
    "        y += c * x**(1+i)\n",
    "    \n",
    "    return y\n",
    "\n",
    "def lorentzian_fit(wavelength, data, plot=True):\n",
    "    # Fit a polynomial\n",
    "    order = 20\n",
    "    wl = np.array(wavelength)\n",
    "    data = np.array(data)\n",
    "    \n",
    "    # Split into three partitions\n",
    "    idx_min = wl > 550\n",
    "    idx_max = wl < 775\n",
    "    idx_1 = (wl <= 630)\n",
    "    idx_3 = (wl >= 700)\n",
    "    idx_2 = idx_1 == idx_3\n",
    "    idx_1 = idx_1 == idx_min\n",
    "    idx_3 = idx_3 == idx_max\n",
    "    \n",
    "    wl1 = wl[idx_1].reshape(-1,1)\n",
    "    wl2 = wl[idx_2].reshape(-1,1)\n",
    "    wl3 = wl[idx_3].reshape(-1,1)\n",
    "    \n",
    "    data1 = data[idx_1]\n",
    "    data2 = data[idx_2]\n",
    "    data3 = data[idx_3]\n",
    "    \n",
    "    # Construct the design matrices\n",
    "    X_1 = PolynomialFeatures(3, include_bias=False).fit_transform(wl1)\n",
    "    X_2 = PolynomialFeatures(20, include_bias=False).fit_transform(wl2)\n",
    "    X_3 = PolynomialFeatures(3, include_bias=False).fit_transform(wl3)\n",
    "\n",
    "    # Perform the fit\n",
    "    reg_1 = LinearRegression(normalize=True).fit(X_1, data1)\n",
    "    intercept_1 = reg_1.intercept_\n",
    "    coef_1 = reg_1.coef_\n",
    "    \n",
    "    reg_2 = LinearRegression(normalize=True).fit(X_2, data2)\n",
    "    intercept_2 = reg_2.intercept_\n",
    "    coef_2 = reg_2.coef_\n",
    "    \n",
    "    reg_3 = LinearRegression(normalize=True).fit(X_3, data3)\n",
    "    intercept_3 = reg_3.intercept_\n",
    "    coef_3 = reg_3.coef_\n",
    "    \n",
    "    # Plot fits\n",
    "    if plot:\n",
    "        fig, ax = plt.subplots(figsize=(10,6))\n",
    "    \n",
    "        y1 = np.zeros(wl1.shape[0])\n",
    "        for i, w in enumerate(wl1):\n",
    "            y1[i]  = poly(w, intercept_1, coef_1)\n",
    "        ax.plot(wl1, y1, 'b')\n",
    "    \n",
    "        y2 = np.zeros(wl2.shape[0])\n",
    "        for i, w in enumerate(wl2):\n",
    "            y2[i]  = poly(w, intercept_2, coef_2)\n",
    "        ax.plot(wl2, y2, 'b')\n",
    "    \n",
    "        y3 = np.zeros(wl3.shape[0])\n",
    "        for i, w in enumerate(wl3):\n",
    "            y3[i]  = poly(w, intercept_3, coef_3)\n",
    "        ax.plot(wl3, y3, 'b')\n",
    "    \n",
    "        ax.plot(wl, data, 'r', alpha=0.5) # Real data\n",
    "        plt.show()\n",
    "    \n",
    "    # Find maxmimum by optimizing the lin_reg.predict\n",
    "    x0 = minimize_scalar(lambda x, i, c: -poly(x, i, c), method='bounded', args=(intercept_2, coef_2), bounds=(630,700))\n",
    "    peak_x = x0.x\n",
    "    peak_y = poly(peak_x, intercept_2, coef_2)\n",
    "    \n",
    "    # Find the FWHM by finding the roots to lin_reg.predict -lin_reg.predict(x0)/2\n",
    "    x1 = root(lambda x, i, c: poly(x, i, c)-peak_y/2, x0=600, args=(intercept_1, coef_1))\n",
    "    FWHM_1 = x1.x[0]\n",
    "    x2 = root(lambda x, i, c: poly(x, i, c)-peak_y/2, x0=700, args=(intercept_3, coef_3))\n",
    "    FWHM_2 = x2.x[0]\n",
    "    FWHM = FWHM_2 - FWHM_1\n",
    "\n",
    "    return peak_x, FWHM"
   ]
  },
  {
   "cell_type": "code",
   "execution_count": 122,
   "metadata": {},
   "outputs": [
    {
     "data": {
      "image/png": "[encoded data removed]",
      "text/plain": [
       "<Figure size 720x432 with 1 Axes>"
      ]
     },
     "metadata": {
      "needs_background": "light"
     },
     "output_type": "display_data"
    },
    {
     "name": "stdout",
     "output_type": "stream",
     "text": [
      "660.2934806567694\n",
      "187.75718734491784\n"
     ]
    }
   ],
   "source": [
    "peak_x, FWHM = lorentzian_fit(l, corr_spectra_t)\n",
    "print(peak_x)\n",
    "print(FWHM)"
   ]
  }
 ],
 "metadata": {
  "kernelspec": {
   "display_name": "Python [conda env:tif285-env]",
   "language": "python",
   "name": "conda-env-tif285-env-py"
  },
  "language_info": {
   "codemirror_mode": {
    "name": "ipython",
    "version": 3
   },
   "file_extension": ".py",
   "mimetype": "text/x-python",
   "name": "python",
   "nbconvert_exporter": "python",
   "pygments_lexer": "ipython3",
   "version": "3.7.3"
  }
 },
 "nbformat": 4,
 "nbformat_minor": 2
}
